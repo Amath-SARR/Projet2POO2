{
 "cells": [
  {
   "cell_type": "code",
   "execution_count": 1,
   "id": "b33d1e4c",
   "metadata": {},
   "outputs": [
    {
     "name": "stdout",
     "output_type": "stream",
     "text": [
      "A\n",
      "B\n",
      "C\n",
      "D\n",
      "E\n",
      "F\n",
      "G\n",
      "I\n"
     ]
    }
   ],
   "source": [
    "# Creation d'un Graphe ou un Arbre\n",
    "G = {\n",
    "    'A': [\"B\", \"C\", \"D\"],\n",
    "    'B': [\"E\", \"F\"],\n",
    "    'C': [\"G\", \"I\"],\n",
    "    'D': [\"I\"],\n",
    "    'E': [],\n",
    "    'F': [],\n",
    "    'G': [],\n",
    "    'I': []\n",
    "}\n",
    "\n",
    "# Fonoction de parcour par largeur\n",
    "def parcoursBfs(cmp,G,current):\n",
    "    \"\"\"Trouver un parcours DFS entre noeudSRC et noeudDST\"\"\"\n",
    "    cmp.append(current)\n",
    "    last = []\n",
    "    last.append(current)\n",
    "    \n",
    "    while last:\n",
    "        s = last.pop(0)\n",
    "        print(s)\n",
    "        \n",
    "        for i in G[s]:\n",
    "            if i not in cmp:\n",
    "                cmp.append(i)\n",
    "                last.append(i)\n",
    "            \n",
    "\n",
    "parcoursBfs([],G,'A')"
   ]
  },
  {
   "cell_type": "code",
   "execution_count": 2,
   "id": "a183356c",
   "metadata": {},
   "outputs": [
    {
     "data": {
      "text/plain": [
       "'A D I C G B F E'"
      ]
     },
     "execution_count": 2,
     "metadata": {},
     "output_type": "execute_result"
    }
   ],
   "source": [
    "# Fonoction de parcour en profondeur\n",
    "def parcoursDfs(G, source):\n",
    "    path = []\n",
    "    pile = []\n",
    "    pile.append(source)\n",
    "    \n",
    "    while pile: \n",
    "        s = pile.pop()\n",
    "        if s not in path:\n",
    "            path.append(s)\n",
    "        elif s in path:\n",
    "            continue\n",
    "        for i in G[s]:\n",
    "            pile.append(i)\n",
    "            \n",
    "    return \" \".join(path)\n",
    "\n",
    "\n",
    "parcoursDfs(G, 'A')"
   ]
  },
  {
   "cell_type": "code",
   "execution_count": null,
   "id": "8b91acec",
   "metadata": {},
   "outputs": [],
   "source": []
  }
 ],
 "metadata": {
  "kernelspec": {
   "display_name": "Python 3",
   "language": "python",
   "name": "python3"
  },
  "language_info": {
   "codemirror_mode": {
    "name": "ipython",
    "version": 3
   },
   "file_extension": ".py",
   "mimetype": "text/x-python",
   "name": "python",
   "nbconvert_exporter": "python",
   "pygments_lexer": "ipython3",
   "version": "3.8.8"
  }
 },
 "nbformat": 4,
 "nbformat_minor": 5
}
