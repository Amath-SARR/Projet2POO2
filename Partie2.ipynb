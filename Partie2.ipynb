{
 "cells": [
  {
   "cell_type": "code",
   "execution_count": 1,
   "id": "1e00c257",
   "metadata": {},
   "outputs": [
    {
     "ename": "SyntaxError",
     "evalue": "invalid syntax (<ipython-input-1-66a481bd4269>, line 25)",
     "output_type": "error",
     "traceback": [
      "\u001b[1;36m  File \u001b[1;32m\"<ipython-input-1-66a481bd4269>\"\u001b[1;36m, line \u001b[1;32m25\u001b[0m\n\u001b[1;33m    return self.noeud == noeud:\u001b[0m\n\u001b[1;37m                              ^\u001b[0m\n\u001b[1;31mSyntaxError\u001b[0m\u001b[1;31m:\u001b[0m invalid syntax\n"
     ]
    }
   ],
   "source": [
    "import pandas as pd\n",
    "df = pd.read_csv(\"transport-nodes.csv\")\n",
    "\n",
    "df\n",
    "# class Node\n",
    "class Noeud:\n",
    "    def __init__(self,name,attributs,listeNomVoisin):\n",
    "        self.name = name \n",
    "        self.attributs = {}\n",
    "        self.listeNomVoisin = []\n",
    "        \n",
    "    def setAttribut(self,key,values):\n",
    "        self.attributs['key'] = values\n",
    "         \n",
    "    def getAttribut(self,key):\n",
    "        return self.attributs['key']\n",
    "    \n",
    "    def getName(self):\n",
    "        return self.name\n",
    "    '''\n",
    "    Deux noeuds sont egaux s'ils ont même nom\n",
    "    '''\n",
    "    def egal(self,noeud):\n",
    "        return self.noeud==noeud:\n",
    "    \n",
    "    def getCoutMin(self):\n",
    "         \n",
    "    def getCout(self,noeud):\n",
    "        return self.noeud\n",
    "    \n",
    "# Test\n",
    "node = Noeud(df[1])\n",
    "print(node.getName())"
   ]
  },
  {
   "cell_type": "code",
   "execution_count": null,
   "id": "237097d9",
   "metadata": {},
   "outputs": [],
   "source": [
    "class Graphe(Noeud):\n",
    "    def__init__(self,arcs):\n",
    "        self.noeudes = []\n",
    "        self.arcs = {}\n",
    "        \n",
    "    def creerNoeuds(self,fichiernoeuds):  \n",
    "        for value in range(len.fichiernoeuds):\n",
    "            var1 = df['id'][value]\n",
    "            nodes.append(var1)\n",
    "        return nodes_list\n",
    "    \n",
    "    def creerArc(self,fichierarcs):\n",
    "        pass\n",
    "    \n",
    "    def getNoeud(self,name):\n",
    "        pass\n",
    "    \n",
    "    def getVoisins(self,noeud):\n",
    "        pass\n",
    "    \n",
    "    def getCoordonnesVoisins (self,noeud):\n",
    "        pass\n",
    "    \n",
    "    def getListeCoordonnees(self,listeNoeuds):\n",
    "        pass\n",
    "    \n",
    "    def visualiserFolium(self,locationpardefaut=[52.3791890,4.899431],tiles='Stamen Toner',explored=None):\n",
    "        pass\n",
    "    \n",
    "    \n",
    "G=Graphe()\n",
    "G.creerNoeuds('transport-nodes.csv')\n",
    "\n",
    "G=Graphe()\n",
    "G.creerArc('transport-relationships.csv')\n",
    "\n",
    "G.visualiserFolium()"
   ]
  }
 ],
 "metadata": {
  "kernelspec": {
   "display_name": "Python 3",
   "language": "python",
   "name": "python3"
  },
  "language_info": {
   "codemirror_mode": {
    "name": "ipython",
    "version": 3
   },
   "file_extension": ".py",
   "mimetype": "text/x-python",
   "name": "python",
   "nbconvert_exporter": "python",
   "pygments_lexer": "ipython3",
   "version": "3.8.8"
  }
 },
 "nbformat": 4,
 "nbformat_minor": 5
}
